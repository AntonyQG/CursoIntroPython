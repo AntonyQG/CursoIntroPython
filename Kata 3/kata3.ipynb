{
 "cells": [
  {
   "cell_type": "markdown",
   "metadata": {},
   "source": [
    "# Declaraciones if, else, y elif"
   ]
  },
  {
   "cell_type": "markdown",
   "metadata": {},
   "source": [
    "## Programa \"Advertencia de asteroide\""
   ]
  },
  {
   "cell_type": "markdown",
   "metadata": {},
   "source": [
    "#### Con velocidad de 40 Km/s"
   ]
  },
  {
   "cell_type": "code",
   "execution_count": 14,
   "metadata": {},
   "outputs": [
    {
     "name": "stdout",
     "output_type": "stream",
     "text": [
      "¡Se acerca un asteroide!, su velocidad es de: 49\n"
     ]
    }
   ],
   "source": [
    "velocidad_asteroide = 49 #Medida en Km/s\n",
    "if velocidad_asteroide > 25:\n",
    "  print(\"¡Se acerca un asteroide!, su velocidad es de: \" + str(velocidad_asteroide))\n",
    "else:\n",
    "  print(\"Estamos a salvo\")"
   ]
  },
  {
   "cell_type": "markdown",
   "metadata": {},
   "source": [
    "#### Si astereoide entra a la atmosfera mayor a 20 km/s "
   ]
  },
  {
   "cell_type": "code",
   "execution_count": 15,
   "metadata": {},
   "outputs": [
    {
     "name": "stdout",
     "output_type": "stream",
     "text": [
      "No hay asteroide, todo bien\n"
     ]
    }
   ],
   "source": [
    "velocidad_asteroide = 19 #Medida en Km/s\n",
    "if velocidad_asteroide > 20:\n",
    "  print(\"¡Se acerca un asteroide!, se puede ver su destello, deben buscarlo en el cielo, su velocidad es de: \" + str(velocidad_asteroide))\n",
    "elif velocidad_asteroide == 20:\n",
    "  print(\"¡Se acerca un asteroide!, se puede ver su destello, deben buscarlo en el cielo, su velocidad es de: \" + str(velocidad_asteroide))\n",
    "else:\n",
    "  print(\"No hay asteroide, todo bien\")\n"
   ]
  },
  {
   "cell_type": "markdown",
   "metadata": {},
   "source": [
    "#### Uso de operadores and y or"
   ]
  },
  {
   "cell_type": "code",
   "execution_count": 16,
   "metadata": {},
   "outputs": [
    {
     "name": "stdout",
     "output_type": "stream",
     "text": [
      "¡Se acerca un asteroide!, se puede ver su destello, deben buscarlo en el cielo, su velocidad es de: 25\n"
     ]
    }
   ],
   "source": [
    "velocidad_asteroide = 25\n",
    "asteroide_size = 40\n",
    "if velocidad_asteroide > 25 and asteroide_size > 25:\n",
    "    print(\"¡Se acerca un asteroide peligroso!, su velocidad es de: \" + str(velocidad_asteroide))\n",
    "    print(\"y su tamaño es de\" + str(asteroide_size) + \"metros\")\n",
    "elif velocidad_asteroide >= 20:\n",
    "    print(\"¡Se acerca un asteroide!, se puede ver su destello, deben buscarlo en el cielo, su velocidad es de: \" + str(velocidad_asteroide))\n",
    "elif asteroide_size < 25:\n",
    "    print(\"No hay asteroide, todo bien\")\n",
    "else:\n",
    "    print(\"No hay asteroide, todo bien\")\n"
   ]
  }
 ],
 "metadata": {
  "interpreter": {
   "hash": "56b435c5857595d239cc6ea193352b41e48dd60dcf9b18ee2cabfe957593b84b"
  },
  "kernelspec": {
   "display_name": "Python 3.10.2 64-bit",
   "language": "python",
   "name": "python3"
  },
  "language_info": {
   "codemirror_mode": {
    "name": "ipython",
    "version": 3
   },
   "file_extension": ".py",
   "mimetype": "text/x-python",
   "name": "python",
   "nbconvert_exporter": "python",
   "pygments_lexer": "ipython3",
   "version": "3.10.2"
  },
  "orig_nbformat": 4
 },
 "nbformat": 4,
 "nbformat_minor": 2
}
