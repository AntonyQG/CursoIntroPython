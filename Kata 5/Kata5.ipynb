{
 "cells": [
  {
   "cell_type": "markdown",
   "metadata": {},
   "source": [
    "\n",
    "# Ejercicio1 - Utilizar operadores aritméticos"
   ]
  },
  {
   "cell_type": "code",
   "execution_count": 10,
   "metadata": {},
   "outputs": [
    {
     "name": "stdout",
     "output_type": "stream",
     "text": [
      "628949330 kilometros\n",
      "390577533.93 millas\n"
     ]
    }
   ],
   "source": [
    "# Almacenamiento de las dos ditancias en km\n",
    "tierra = 149597870\n",
    "jupiter = 778547200\n",
    "\n",
    "# Calculo de las distancias en km y lurgo en millas\n",
    "# KM\n",
    "distancia_entre_planetas = jupiter - tierra\n",
    "print(str(distancia_entre_planetas) + \" kilometros\")\n",
    "\n",
    "# Millas\n",
    "print(str(distancia_entre_planetas * 0.621) + \" millas\")"
   ]
  },
  {
   "cell_type": "markdown",
   "metadata": {},
   "source": [
    "# Ejercicio 2: convierte cadenas en números y usa valores absolutos"
   ]
  },
  {
   "cell_type": "code",
   "execution_count": 25,
   "metadata": {},
   "outputs": [],
   "source": [
    "# almanecar los valores\n",
    "planeta1 = input(\"Inserte la distancia del primer planeta en Kilometros:\")\n",
    "planeta2 = input(\"Introduzca la distancia del segundo planeta en Kilometros:\")"
   ]
  },
  {
   "cell_type": "code",
   "execution_count": 26,
   "metadata": {},
   "outputs": [
    {
     "name": "stdout",
     "output_type": "stream",
     "text": [
      "50\n",
      "894\n"
     ]
    }
   ],
   "source": [
    "planeta1 = int(planeta1)\n",
    "planeta2 = int(planeta2)\n",
    "print(str(planeta1))\n",
    "print(str(planeta2))"
   ]
  },
  {
   "cell_type": "code",
   "execution_count": 37,
   "metadata": {},
   "outputs": [
    {
     "name": "stdout",
     "output_type": "stream",
     "text": [
      "Valor negativo: -844\n",
      "Distancia en kilometros con valor absoluto: 844\n",
      "Distancia en millas: 524.124\n"
     ]
    }
   ],
   "source": [
    "# valor negativo\n",
    "print(\"Valor negativo: \" + str(planeta1 - planeta2))\n",
    "\n",
    "# Determinar el valor de la distancia\n",
    "diatancia_km = abs(planeta1 - planeta2)\n",
    "print(\"Distancia en kilometros con valor absoluto: \" + str(diatancia_km))\n",
    "\n",
    "# Conversión de KM a Millas\n",
    "distancia_millas = diatancia_km * 0.621\n",
    "print(\"Distancia en millas: \" + str(distancia_millas))\n"
   ]
  },
  {
   "cell_type": "markdown",
   "metadata": {},
   "source": [
    "# "
   ]
  }
 ],
 "metadata": {
  "interpreter": {
   "hash": "56b435c5857595d239cc6ea193352b41e48dd60dcf9b18ee2cabfe957593b84b"
  },
  "kernelspec": {
   "display_name": "Python 3.10.2 64-bit",
   "language": "python",
   "name": "python3"
  },
  "language_info": {
   "codemirror_mode": {
    "name": "ipython",
    "version": 3
   },
   "file_extension": ".py",
   "mimetype": "text/x-python",
   "name": "python",
   "nbconvert_exporter": "python",
   "pygments_lexer": "ipython3",
   "version": "3.10.2"
  },
  "orig_nbformat": 4
 },
 "nbformat": 4,
 "nbformat_minor": 2
}
